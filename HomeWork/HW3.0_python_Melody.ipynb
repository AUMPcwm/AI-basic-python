{
 "cells": [
  {
   "cell_type": "code",
   "execution_count": 49,
   "metadata": {},
   "outputs": [
    {
     "data": {
      "text/plain": [
       "'This_is_a_test_,_Yes.'"
      ]
     },
     "execution_count": 49,
     "metadata": {},
     "output_type": "execute_result"
    }
   ],
   "source": [
    "####  Homework for Python Lesson3 ####\n",
    "### Date: 2019-10-22             #######\n",
    "#### Author: Melody Chen         #########\n",
    "#######  HW3.1. define the print_string function ##########\n",
    "def print_string(*values, sep=' ', end='\\n'):\n",
    "    string=''\n",
    "    for v in values:\n",
    "        string+=str(v)\n",
    "        string+=sep\n",
    "    string = string[:-1]+ end\n",
    "    return string"
   ]
  },
  {
   "cell_type": "code",
   "execution_count": 55,
   "metadata": {},
   "outputs": [
    {
     "data": {
      "text/plain": [
       "[1, 1, 2, 3]"
      ]
     },
     "execution_count": 55,
     "metadata": {},
     "output_type": "execute_result"
    }
   ],
   "source": [
    "#######  HW3.2. 斐波那契数列 ##########\n",
    "### Use 'for' ##########\n",
    "def fab1(n):\n",
    "    L=[]\n",
    "    a,b=0,1\n",
    "    for num in range(1,n+1):\n",
    "        L.append(b)\n",
    "        a,b=b,a+b\n",
    "    return L\n",
    "    \n",
    "### Use 'While' ##########\n",
    "def fab2(max): \n",
    "    n, a, b = 0, 0, 1 \n",
    "    L = [] \n",
    "    while n < max: \n",
    "        L.append(b) \n",
    "        a, b = b, a + b \n",
    "        n = n + 1 \n",
    "    return L \n",
    "\n",
    "\n",
    "fab1(4)"
   ]
  },
  {
   "cell_type": "code",
   "execution_count": null,
   "metadata": {},
   "outputs": [],
   "source": []
  }
 ],
 "metadata": {
  "kernelspec": {
   "display_name": "Python 3",
   "language": "python",
   "name": "python3"
  },
  "language_info": {
   "codemirror_mode": {
    "name": "ipython",
    "version": 3
   },
   "file_extension": ".py",
   "mimetype": "text/x-python",
   "name": "python",
   "nbconvert_exporter": "python",
   "pygments_lexer": "ipython3",
   "version": "3.6.5"
  }
 },
 "nbformat": 4,
 "nbformat_minor": 2
}
