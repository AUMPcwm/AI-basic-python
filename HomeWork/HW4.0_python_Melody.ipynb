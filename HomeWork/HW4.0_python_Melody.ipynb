{
 "cells": [
  {
   "cell_type": "code",
   "execution_count": 10,
   "metadata": {},
   "outputs": [
    {
     "data": {
      "image/png": "[encoded data removed]",
      "text/plain": [
       "<Figure size 432x288 with 1 Axes>"
      ]
     },
     "metadata": {},
     "output_type": "display_data"
    }
   ],
   "source": [
    "\"\"\"\n",
    "Author: Melody Chen\n",
    "Date: 2019-11-01\n",
    "Theme: Homework for lesson4\n",
    "\n",
    "\"\"\"\n",
    "######## 4.1 install numpy,matplotlib, sklearn, and test it  #####\n",
    "import numpy as np\n",
    "import matplotlib.pyplot as plt\n",
    "import sklearn\n",
    "\n",
    "X = np.linspace(-np.pi, np.pi, 512, endpoint=True)\n",
    "C,S = np.cos(X), np.sin(X)\n",
    "\n",
    "plt.plot(X,C)\n",
    "plt.plot(X,S)\n",
    "\n",
    "plt.show()\n"
   ]
  },
  {
   "cell_type": "code",
   "execution_count": null,
   "metadata": {},
   "outputs": [],
   "source": []
  },
  {
   "cell_type": "code",
   "execution_count": 13,
   "metadata": {},
   "outputs": [
    {
     "name": "stdout",
     "output_type": "stream",
     "text": [
      "[1 1 1 2 0 0 2 0 2 1 2 1 0 2 0 1 1 1 0 1 1 0 0 1 1 0 0 2 1 2 2 1 1 1 2 2 0\n",
      " 0 2 0 2 0 2 1 1 1 0 0 0 0 1 0 2 1 1 0 2 0 2 0 2 2 0 2 1 1 2 2 2 1 0 0 0 1\n",
      " 2 1 0 2 2 1 2 1 1 2 0 2 2 1 1 1]\n",
      "[2 0 1 2 2 2 0 2 2 0 2 1 1 2 0 1 0 0 0 1 0 0 2 1 2 0 0 1 0 2 1 1 0 2 1 0 2\n",
      " 1 0 1 2 2 2 2 1 1 0 0 1 0 0 0 2 2 0 1 2 2 2 0]\n",
      "[2 0 1 2 2 2 0 2 2 0 2 1 1 2 0 1 0 0 0 1 0 0 2 1 2 0 0 1 0 2 1 1 0 2 1 0 2\n",
      " 1 0 1 2 2 2 2 1 1 0 0 1 0 0 0 2 1 0 1 2 2 2 0]\n"
     ]
    }
   ],
   "source": [
    "from sklearn import datasets\n",
    "from sklearn.model_selection import train_test_split#将数据分为测试集和训练集\n",
    "from sklearn.neighbors import KNeighborsClassifier#利用邻近点方式训练数据\n",
    "\n",
    "###引入数据###\n",
    "iris=datasets.load_iris()#引入iris鸢尾花数据,iris数据包含4个特征变量\n",
    "iris_X=iris.data#特征变量\n",
    "iris_y=iris.target#目标值\n",
    "X_train,X_test,y_train,y_test=train_test_split(iris_X,iris_y,test_size=0.4)#利用train_test_split进行将训练集和测试集进行分开，test_size占30%\n",
    "print(y_train)#我们看到训练数据的特征值分为3类\n",
    "###训练数据###\n",
    "knn=KNeighborsClassifier()#引入训练方法\n",
    "knn.fit(X_train,y_train)#进行填充测试数据进行训练\n",
    "\n",
    "###预测数据###\n",
    "print(knn.predict(X_test))#预测特征值\n",
    "\n",
    "print(y_test)#真实特征值\n"
   ]
  },
  {
   "cell_type": "code",
   "execution_count": 58,
   "metadata": {},
   "outputs": [
    {
     "name": "stdout",
     "output_type": "stream",
     "text": [
      "不好吃 : 差评\n",
      "味道很不错 : 好评\n",
      "香 : 好评\n",
      "很划算 : 好评\n",
      "特别难吃 : 差评\n",
      "快递太慢了 : 差评\n",
      "下次还来 : 好评\n",
      "要熏死我了 : 差评\n"
     ]
    }
   ],
   "source": [
    "######## 4.2 Data Random  #####\n",
    "import numpy as np\n",
    "\n",
    "\n",
    "def shuffle(x,y):\n",
    "    if le==len(x)==len(y):\n",
    "        a=np.random.permutation(le)\n",
    "        x1=[]\n",
    "        y1=[]\n",
    "        for i in range(0,le):\n",
    "            x1.append(x[a[i]])\n",
    "            y1.append(y[a[i]])\n",
    "        for i,j in zip(x1,y1):\n",
    "            print(i,':',j)\n",
    "    else:\n",
    "        print('The length of x and y did not match')\n",
    "        \n",
    "x = ['快递太慢了','不好吃','特别难吃','要熏死我了','很划算','下次还来','味道很不错','香']\n",
    "y = ['差评','差评','差评','差评','好评','好评','好评','好评']\n",
    "shuffle(x,y)"
   ]
  },
  {
   "cell_type": "code",
   "execution_count": 12,
   "metadata": {},
   "outputs": [
    {
     "name": "stdout",
     "output_type": "stream",
     "text": [
      "Counter({'': 41, '人民': 3, '共和': 3, '共和国': 3, '作出': 3, '贡献': 3, '杰出': 3, '勋章': 3, '中华': 2, '中华人民': 2, '中华人民共和国': 2, '华人': 2, '人民共和国': 2, '将': 2, '颁授': 2, '中国': 2, '社会': 2, '社会主义': 2, '会主': 2, '主义': 2, '建设': 2, '国家': 2, '重大': 2, '重大贡献': 2, '道德': 2, '道德品质': 2, '品质': 2, '高尚': 2, '群众': 2, '公认': 2, '人士': 2, '中宣部': 1, '常务': 1, '常务副': 1, '副部长': 1, '部长': 1, '王': 1, '晓': 1, '晖': 1, '29': 1, '日': 1, '介绍': 1, '庆祝': 1, '成立': 1, '70': 1, '周年': 1, '活动': 1, '北京': 1, '北京人民大会堂': 1, '人民大会堂': 1, '大会': 1, '大会堂': 1, '会堂': 1, '举行': 1, '隆重': 1, '仪式': 1, '国特': 1, '特色': 1, '保卫': 1, '保卫国家': 1, '卫国': 1, '家中': 1, '建立': 1, '卓越': 1, '功勋': 1, '现代': 1, '现代化': 1, '促进': 1, '中外': 1, '外交': 1, '交流': 1, '合作': 1, '维护': 1, '世界': 1, '和平': 1, '杰出贡献': 1, '外国': 1, '外国人': 1, '国人': 1, '各': 1, '领域': 1, '各行': 1, '行业': 1, '享有': 1, '崇高': 1, '高声': 1, '声誉': 1, '分别': 1, '授予': 1, '友谊': 1, '荣誉': 1, '荣誉称号': 1, '誉称': 1, '称号': 1, '国主': 1, '主席': 1, '习近平': 1, '亲自': 1, '授勋': 1, '奖章': 1, '签发': 1, '发证': 1, '证书': 1})\n"
     ]
    }
   ],
   "source": [
    "######## 4.2 Data Count  #####\n",
    "import collections\n",
    "import jieba\n",
    "\n",
    "\n",
    "def count_words(text):\n",
    "    seg_list_exact = jieba.cut(text, cut_all=True)\n",
    "    #去除一般词\n",
    "    object_list = []\n",
    "    remove_words = [u'的', u'，',u'和', u'是', u'随着', u'对于', u'对',u'等',u'能',u'都',u'。',u' ',u'、',u'中',u'在',u'了',\n",
    "                u'通常',u'如果',u'我们',u'需要'] # 自定义去除词库\n",
    "\n",
    "    for word in seg_list_exact: # 循环读出每个分词\n",
    "        if word not in remove_words: # 如果不在去除词库中\n",
    "            object_list.append(word) # 分词追加到列表\n",
    "\n",
    "    # 词频统计\n",
    "    word_counts = collections.Counter(object_list) # 对分词做词频统计\n",
    "    word_counts_top10 = word_counts.most_common(10) # 获取前10最高频的词\n",
    "    pass\n",
    "    return word_counts\n",
    "\n",
    "test= '中宣部常务副部长王晓晖29日介绍，庆祝中华人民共和国成立70周年活动中，将在北京人民大会堂举行隆重颁授仪式，对在中国特色社会主义建设和保卫国家中作出重大贡献、建立卓越功勋、道德品质高尚、群众公认的杰出人士，在中国社会主义现代化建设和促进中外交流合作、维护世界和平中作出杰出贡献的外国人，在各领域各行业作出重大贡献、享有崇高声誉、道德品质高尚、群众公认的杰出人士，分别授予“共和国勋章”“友谊勋章”和国家荣誉称号。中华人民共和国主席习近平将亲自颁授勋章、奖章，签发证书。'\n",
    "print(count_words(test))"
   ]
  }
 ],
 "metadata": {
  "kernelspec": {
   "display_name": "Python 3",
   "language": "python",
   "name": "python3"
  },
  "language_info": {
   "codemirror_mode": {
    "name": "ipython",
    "version": 3
   },
   "file_extension": ".py",
   "mimetype": "text/x-python",
   "name": "python",
   "nbconvert_exporter": "python",
   "pygments_lexer": "ipython3",
   "version": "3.6.5"
  }
 },
 "nbformat": 4,
 "nbformat_minor": 2
}
